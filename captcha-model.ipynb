{
 "cells": [
  {
   "cell_type": "markdown",
   "id": "852041eb",
   "metadata": {},
   "source": [
    "# Imports"
   ]
  },
  {
   "cell_type": "code",
   "execution_count": 1,
   "id": "3fa49c97",
   "metadata": {},
   "outputs": [
    {
     "name": "stderr",
     "output_type": "stream",
     "text": [
      "2024-02-06 11:19:08.697464: I tensorflow/core/platform/cpu_feature_guard.cc:182] This TensorFlow binary is optimized to use available CPU instructions in performance-critical operations.\n",
      "To enable the following instructions: AVX2 FMA, in other operations, rebuild TensorFlow with the appropriate compiler flags.\n"
     ]
    }
   ],
   "source": [
    "import numpy as np \n",
    "import pandas as pd \n",
    "from matplotlib import pyplot as plt\n",
    "import tensorflow as tf\n",
    "from tensorflow.keras import layers, models\n",
    "import cv2\n",
    "from tensorflow.keras.preprocessing.image import ImageDataGenerator"
   ]
  },
  {
   "cell_type": "markdown",
   "id": "9a091d29",
   "metadata": {},
   "source": [
    "# Data Processing"
   ]
  },
  {
   "cell_type": "code",
   "execution_count": 2,
   "id": "8b11b732",
   "metadata": {},
   "outputs": [],
   "source": [
    "filelist = []\n",
    "\n",
    "import os\n",
    "for dirname, _, filenames in os.walk(\"/Users/alertrack/Documents/Captcha-Bot/dataset/archive\"):\n",
    "    for filename in filenames:        \n",
    "        filelist.append(os.path.join(dirname, filename))"
   ]
  },
  {
   "cell_type": "code",
   "execution_count": 3,
   "id": "0de08c52",
   "metadata": {},
   "outputs": [],
   "source": [
    "labels = []\n",
    "images = []\n",
    "for image_path in filelist:\n",
    "    image = cv2.imread(image_path, cv2.IMREAD_GRAYSCALE)\n",
    "    image = image / 255  # Normalização\n",
    "    \n",
    "    resized_image = cv2.resize(image, (150, 40))\n",
    "    \n",
    "    reshaped_image = np.expand_dims(resized_image, axis=-1)\n",
    "    \n",
    "    images.append(reshaped_image)\n",
    "    \n",
    "    image_label = image_path.split(\"/\")[-1].split(\".\")[0]\n",
    "    labels.append(image_label)\n",
    "\n",
    "images = np.array(images)\n",
    "labels = np.array(labels)"
   ]
  },
  {
   "cell_type": "code",
   "execution_count": 4,
   "id": "632b3c67",
   "metadata": {},
   "outputs": [
    {
     "name": "stdout",
     "output_type": "stream",
     "text": [
      "(113062, 40, 150, 1)\n"
     ]
    }
   ],
   "source": [
    "images = np.stack(images)\n",
    "print(images.shape)"
   ]
  },
  {
   "cell_type": "code",
   "execution_count": 5,
   "id": "8f489c4d",
   "metadata": {},
   "outputs": [
    {
     "data": {
      "image/png": "[encoded data removed]",
      "text/plain": [
       "<Figure size 640x480 with 1 Axes>"
      ]
     },
     "metadata": {},
     "output_type": "display_data"
    },
    {
     "name": "stdout",
     "output_type": "stream",
     "text": [
      "[[[1.]\n",
      "  [1.]\n",
      "  [1.]\n",
      "  ...\n",
      "  [1.]\n",
      "  [1.]\n",
      "  [1.]]\n",
      "\n",
      " [[1.]\n",
      "  [1.]\n",
      "  [1.]\n",
      "  ...\n",
      "  [1.]\n",
      "  [1.]\n",
      "  [1.]]\n",
      "\n",
      " [[1.]\n",
      "  [1.]\n",
      "  [1.]\n",
      "  ...\n",
      "  [1.]\n",
      "  [1.]\n",
      "  [1.]]\n",
      "\n",
      " ...\n",
      "\n",
      " [[1.]\n",
      "  [1.]\n",
      "  [1.]\n",
      "  ...\n",
      "  [1.]\n",
      "  [1.]\n",
      "  [1.]]\n",
      "\n",
      " [[1.]\n",
      "  [1.]\n",
      "  [1.]\n",
      "  ...\n",
      "  [1.]\n",
      "  [1.]\n",
      "  [1.]]\n",
      "\n",
      " [[1.]\n",
      "  [1.]\n",
      "  [1.]\n",
      "  ...\n",
      "  [1.]\n",
      "  [1.]\n",
      "  [1.]]]\n"
     ]
    }
   ],
   "source": [
    "plt.imshow(images[19])\n",
    "plt.title(labels[19])\n",
    "plt.axis('on')\n",
    "plt.show()\n",
    "\n",
    "print(images[19])"
   ]
  },
  {
   "cell_type": "code",
   "execution_count": 6,
   "id": "517ee14a",
   "metadata": {},
   "outputs": [],
   "source": [
    "#One-Hot Encoding List of 5 character strings\n",
    "def one_hot_encode(characters, char_pool):\n",
    "    char_to_index = {char: i for i, char in enumerate(char_pool)}\n",
    "    num_classes = len(char_pool)\n",
    "    encoding_size = len(characters[0])\n",
    "    \n",
    "    one_hot_encoded = np.zeros((len(characters), encoding_size, num_classes), dtype=int)\n",
    "\n",
    "    for i, word in enumerate(characters):\n",
    "        for j, char in enumerate(word):\n",
    "            index = char_to_index[char]\n",
    "            one_hot_encoded[i, j, index] = 1\n",
    "\n",
    "    return one_hot_encoded\n",
    "\n",
    "char_pool = '0123456789abcdefghijklmnopqrstuvwxyzABCDEFGHIJKLMNOPQRSTUVWXYZ'"
   ]
  },
  {
   "cell_type": "code",
   "execution_count": 7,
   "id": "274b8266",
   "metadata": {},
   "outputs": [
    {
     "data": {
      "text/plain": [
       "((113062, 5, 62),\n",
       " array([[[0, 0, 0, ..., 0, 0, 0],\n",
       "         [0, 0, 0, ..., 0, 0, 0],\n",
       "         [0, 0, 0, ..., 0, 0, 0],\n",
       "         [0, 0, 0, ..., 0, 0, 0],\n",
       "         [0, 0, 0, ..., 0, 0, 0]],\n",
       " \n",
       "        [[0, 0, 0, ..., 0, 0, 0],\n",
       "         [0, 0, 0, ..., 0, 0, 0],\n",
       "         [0, 0, 0, ..., 0, 0, 0],\n",
       "         [0, 0, 0, ..., 0, 0, 0],\n",
       "         [0, 0, 0, ..., 0, 0, 0]],\n",
       " \n",
       "        [[0, 0, 0, ..., 0, 1, 0],\n",
       "         [0, 0, 0, ..., 0, 0, 0],\n",
       "         [0, 0, 0, ..., 0, 0, 0],\n",
       "         [0, 0, 0, ..., 0, 0, 0],\n",
       "         [0, 0, 0, ..., 0, 0, 0]],\n",
       " \n",
       "        ...,\n",
       " \n",
       "        [[0, 0, 0, ..., 0, 0, 0],\n",
       "         [0, 0, 0, ..., 0, 0, 0],\n",
       "         [0, 0, 0, ..., 0, 0, 0],\n",
       "         [0, 0, 0, ..., 0, 0, 0],\n",
       "         [0, 0, 0, ..., 0, 0, 0]],\n",
       " \n",
       "        [[0, 0, 0, ..., 0, 0, 0],\n",
       "         [0, 0, 1, ..., 0, 0, 0],\n",
       "         [0, 0, 0, ..., 0, 0, 0],\n",
       "         [0, 0, 0, ..., 0, 0, 0],\n",
       "         [0, 0, 0, ..., 0, 0, 0]],\n",
       " \n",
       "        [[0, 0, 0, ..., 0, 0, 0],\n",
       "         [0, 0, 0, ..., 0, 0, 0],\n",
       "         [0, 0, 0, ..., 0, 0, 1],\n",
       "         [0, 0, 0, ..., 0, 0, 0],\n",
       "         [0, 0, 0, ..., 0, 0, 0]]]))"
      ]
     },
     "execution_count": 7,
     "metadata": {},
     "output_type": "execute_result"
    }
   ],
   "source": [
    "#Encoding Labels\n",
    "encoded_labels = one_hot_encode(labels, char_pool)\n",
    "encoded_labels = np.array(encoded_labels)\n",
    "encoded_labels.shape, encoded_labels"
   ]
  },
  {
   "cell_type": "code",
   "execution_count": 8,
   "id": "e890c2af",
   "metadata": {},
   "outputs": [
    {
     "data": {
      "text/plain": [
       "((113062, 40, 150, 1), (113062, 5, 62))"
      ]
     },
     "execution_count": 8,
     "metadata": {},
     "output_type": "execute_result"
    }
   ],
   "source": [
    "#Shuffling Array\n",
    "indices = np.random.permutation(len(labels))\n",
    "\n",
    "images = images[indices]\n",
    "encoded_labels = encoded_labels[indices]\n",
    "\n",
    "images.shape, encoded_labels.shape"
   ]
  },
  {
   "cell_type": "code",
   "execution_count": 9,
   "id": "514039ef",
   "metadata": {},
   "outputs": [],
   "source": [
    "#Train-Validation Split\n",
    "split_index = int(len(labels) * 0.9)\n",
    "\n",
    "train_labels = encoded_labels[:split_index]\n",
    "val_labels = encoded_labels[split_index:]\n",
    "\n",
    "train_images = images[:split_index]\n",
    "val_images = images[split_index:]"
   ]
  },
  {
   "cell_type": "code",
   "execution_count": 10,
   "id": "8d5023e8-b0d8-4ef9-990b-4fbd25623618",
   "metadata": {},
   "outputs": [],
   "source": [
    "batch_size = 128\n",
    "\n",
    "train_datagen = ImageDataGenerator(rescale=1.)\n",
    "train_generator = train_datagen.flow(np.array(train_images), np.array(train_labels), batch_size=batch_size)\n",
    "\n",
    "val_datagen = ImageDataGenerator(rescale=1.)\n",
    "val_generator = val_datagen.flow(np.array(val_images), np.array(val_labels), batch_size=batch_size)"
   ]
  },
  {
   "cell_type": "markdown",
   "id": "d0dc4e80",
   "metadata": {},
   "source": [
    "Creating Model"
   ]
  },
  {
   "cell_type": "code",
   "execution_count": 11,
   "id": "0d0de534",
   "metadata": {},
   "outputs": [],
   "source": [
    "# Convolutional Layer\n",
    "model = models.Sequential()\n",
    "model.add(layers.Conv2D(64, (3, 3), activation='relu', input_shape=(40, 150, 1)))\n",
    "model.add(layers.MaxPooling2D((2, 2)))\n",
    "model.add(layers.Conv2D(128, (3, 3), activation='relu'))\n",
    "model.add(layers.MaxPooling2D((2, 2)))\n",
    "model.add(layers.Conv2D(128, (3, 3), activation='relu'))"
   ]
  },
  {
   "cell_type": "code",
   "execution_count": 12,
   "id": "2c589648",
   "metadata": {},
   "outputs": [
    {
     "name": "stdout",
     "output_type": "stream",
     "text": [
      "Model: \"sequential\"\n",
      "_________________________________________________________________\n",
      " Layer (type)                Output Shape              Param #   \n",
      "=================================================================\n",
      " conv2d (Conv2D)             (None, 38, 148, 64)       640       \n",
      "                                                                 \n",
      " max_pooling2d (MaxPooling2  (None, 19, 74, 64)        0         \n",
      " D)                                                              \n",
      "                                                                 \n",
      " conv2d_1 (Conv2D)           (None, 17, 72, 128)       73856     \n",
      "                                                                 \n",
      " max_pooling2d_1 (MaxPoolin  (None, 8, 36, 128)        0         \n",
      " g2D)                                                            \n",
      "                                                                 \n",
      " conv2d_2 (Conv2D)           (None, 6, 34, 128)        147584    \n",
      "                                                                 \n",
      "=================================================================\n",
      "Total params: 222080 (867.50 KB)\n",
      "Trainable params: 222080 (867.50 KB)\n",
      "Non-trainable params: 0 (0.00 Byte)\n",
      "_________________________________________________________________\n"
     ]
    }
   ],
   "source": [
    "model.summary()"
   ]
  },
  {
   "cell_type": "code",
   "execution_count": 13,
   "id": "8ec11ad8",
   "metadata": {},
   "outputs": [],
   "source": [
    "#Dense Layer\n",
    "model.add(layers.Flatten())\n",
    "model.add(layers.Dense(256, activation='relu'))\n",
    "model.add(layers.Dropout(0.5))\n",
    "model.add(layers.Dense(5 * 62, activation='softmax'))\n",
    "model.add(layers.Reshape((5, 62)))"
   ]
  },
  {
   "cell_type": "code",
   "execution_count": 14,
   "id": "2bc9f016",
   "metadata": {},
   "outputs": [
    {
     "name": "stdout",
     "output_type": "stream",
     "text": [
      "Model: \"sequential\"\n",
      "_________________________________________________________________\n",
      " Layer (type)                Output Shape              Param #   \n",
      "=================================================================\n",
      " conv2d (Conv2D)             (None, 38, 148, 64)       640       \n",
      "                                                                 \n",
      " max_pooling2d (MaxPooling2  (None, 19, 74, 64)        0         \n",
      " D)                                                              \n",
      "                                                                 \n",
      " conv2d_1 (Conv2D)           (None, 17, 72, 128)       73856     \n",
      "                                                                 \n",
      " max_pooling2d_1 (MaxPoolin  (None, 8, 36, 128)        0         \n",
      " g2D)                                                            \n",
      "                                                                 \n",
      " conv2d_2 (Conv2D)           (None, 6, 34, 128)        147584    \n",
      "                                                                 \n",
      " flatten (Flatten)           (None, 26112)             0         \n",
      "                                                                 \n",
      " dense (Dense)               (None, 256)               6684928   \n",
      "                                                                 \n",
      " dropout (Dropout)           (None, 256)               0         \n",
      "                                                                 \n",
      " dense_1 (Dense)             (None, 310)               79670     \n",
      "                                                                 \n",
      " reshape (Reshape)           (None, 5, 62)             0         \n",
      "                                                                 \n",
      "=================================================================\n",
      "Total params: 6986678 (26.65 MB)\n",
      "Trainable params: 6986678 (26.65 MB)\n",
      "Non-trainable params: 0 (0.00 Byte)\n",
      "_________________________________________________________________\n"
     ]
    }
   ],
   "source": [
    "model.summary()"
   ]
  },
  {
   "cell_type": "code",
   "execution_count": 15,
   "id": "aa417255",
   "metadata": {},
   "outputs": [],
   "source": [
    "model.compile(optimizer='adam', loss='categorical_crossentropy', metrics=['accuracy'])"
   ]
  },
  {
   "cell_type": "markdown",
   "id": "89e8ef47",
   "metadata": {},
   "source": [
    "# Training"
   ]
  },
  {
   "cell_type": "code",
   "execution_count": null,
   "id": "e2167d9e",
   "metadata": {},
   "outputs": [
    {
     "name": "stdout",
     "output_type": "stream",
     "text": [
      "Epoch 1/30\n",
      "795/795 [==============================] - 818s 1s/step - loss: 4.0209 - accuracy: 0.0304 - val_loss: 3.5650 - val_accuracy: 0.1068\n",
      "Epoch 2/30\n",
      "795/795 [==============================] - 822s 1s/step - loss: 3.4124 - accuracy: 0.1171 - val_loss: 2.8555 - val_accuracy: 0.2658\n",
      "Epoch 3/30\n",
      "795/795 [==============================] - 817s 1s/step - loss: 3.1006 - accuracy: 0.1668 - val_loss: 2.5703 - val_accuracy: 0.3364\n",
      "Epoch 4/30\n",
      "795/795 [==============================] - 829s 1s/step - loss: 2.9433 - accuracy: 0.1949 - val_loss: 2.3953 - val_accuracy: 0.3715\n",
      "Epoch 5/30\n",
      "795/795 [==============================] - 826s 1s/step - loss: 2.8319 - accuracy: 0.2151 - val_loss: 2.2644 - val_accuracy: 0.4042\n",
      "Epoch 6/30\n",
      "795/795 [==============================] - 827s 1s/step - loss: 2.7431 - accuracy: 0.2306 - val_loss: 2.1731 - val_accuracy: 0.4243\n",
      "Epoch 7/30\n",
      "795/795 [==============================] - 826s 1s/step - loss: 2.6630 - accuracy: 0.2459 - val_loss: 2.1093 - val_accuracy: 0.4452\n",
      "Epoch 8/30\n",
      "795/795 [==============================] - 844s 1s/step - loss: 2.5919 - accuracy: 0.2591 - val_loss: 2.0048 - val_accuracy: 0.4627\n",
      "Epoch 9/30\n",
      "795/795 [==============================] - 863s 1s/step - loss: 2.5258 - accuracy: 0.2716 - val_loss: 1.9362 - val_accuracy: 0.4740\n",
      "Epoch 10/30\n",
      "795/795 [==============================] - 876s 1s/step - loss: 2.4493 - accuracy: 0.2884 - val_loss: 1.8943 - val_accuracy: 0.4858\n",
      "Epoch 11/30\n",
      "795/795 [==============================] - 912s 1s/step - loss: 2.3854 - accuracy: 0.3018 - val_loss: 1.8205 - val_accuracy: 0.4976\n",
      "Epoch 12/30\n",
      "795/795 [==============================] - 867s 1s/step - loss: 2.3277 - accuracy: 0.3141 - val_loss: 1.7685 - val_accuracy: 0.5036\n",
      "Epoch 13/30\n",
      "795/795 [==============================] - 906s 1s/step - loss: 2.2663 - accuracy: 0.3285 - val_loss: 1.7397 - val_accuracy: 0.5148\n",
      "Epoch 14/30\n",
      "795/795 [==============================] - 910s 1s/step - loss: 2.2103 - accuracy: 0.3399 - val_loss: 1.7094 - val_accuracy: 0.5209\n",
      "Epoch 15/30\n",
      "795/795 [==============================] - 946s 1s/step - loss: 2.1600 - accuracy: 0.3506 - val_loss: 1.6681 - val_accuracy: 0.5251\n",
      "Epoch 16/30\n",
      "795/795 [==============================] - 1003s 1s/step - loss: 2.1147 - accuracy: 0.3604 - val_loss: 1.6478 - val_accuracy: 0.5337\n",
      "Epoch 17/30\n",
      "795/795 [==============================] - 952s 1s/step - loss: 2.0667 - accuracy: 0.3711 - val_loss: 1.6151 - val_accuracy: 0.5382\n",
      "Epoch 18/30\n",
      "795/795 [==============================] - 894s 1s/step - loss: 2.0217 - accuracy: 0.3818 - val_loss: 1.5845 - val_accuracy: 0.5470\n",
      "Epoch 19/30\n",
      "795/795 [==============================] - 980s 1s/step - loss: 1.9750 - accuracy: 0.3925 - val_loss: 1.5687 - val_accuracy: 0.5506\n",
      "Epoch 20/30\n",
      "795/795 [==============================] - 914s 1s/step - loss: 1.9298 - accuracy: 0.4033 - val_loss: 1.5516 - val_accuracy: 0.5508\n",
      "Epoch 21/30\n",
      "795/795 [==============================] - 933s 1s/step - loss: 1.8901 - accuracy: 0.4137 - val_loss: 1.5410 - val_accuracy: 0.5562\n",
      "Epoch 22/30\n",
      "795/795 [==============================] - 943s 1s/step - loss: 1.8460 - accuracy: 0.4251 - val_loss: 1.5292 - val_accuracy: 0.5596\n",
      "Epoch 23/30\n",
      "141/795 [====>.........................] - ETA: 12:56 - loss: 1.7895 - accuracy: 0.4389"
     ]
    }
   ],
   "source": [
    "history = model.fit(train_generator, epochs=30, validation_data=val_generator)"
   ]
  },
  {
   "cell_type": "code",
   "execution_count": null,
   "id": "6591b892",
   "metadata": {},
   "outputs": [],
   "source": [
    "loss_values = history.history['loss']\n",
    "val_loss_values = history.history['val_loss']\n",
    "\n",
    "plt.plot(loss_values, label='Training Loss')\n",
    "plt.plot(val_loss_values, label='Validation Loss')\n",
    "plt.xlabel('Epochs')\n",
    "plt.ylabel('Loss')\n",
    "plt.title('Training and Validation Loss Curves')\n",
    "plt.legend()\n",
    "plt.show()"
   ]
  }
 ],
 "metadata": {
  "kernelspec": {
   "display_name": "Python 3 (ipykernel)",
   "language": "python",
   "name": "python3"
  },
  "language_info": {
   "codemirror_mode": {
    "name": "ipython",
    "version": 3
   },
   "file_extension": ".py",
   "mimetype": "text/x-python",
   "name": "python",
   "nbconvert_exporter": "python",
   "pygments_lexer": "ipython3",
   "version": "3.8.17"
  }
 },
 "nbformat": 4,
 "nbformat_minor": 5
}
